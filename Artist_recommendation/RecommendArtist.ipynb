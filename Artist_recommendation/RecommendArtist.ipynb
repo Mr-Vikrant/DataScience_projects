{
 "cells": [
  {
   "cell_type": "code",
   "execution_count": 2,
   "metadata": {},
   "outputs": [
    {
     "name": "stderr",
     "output_type": "stream",
     "text": [
      "C:\\Users\\sony\\Anaconda3\\lib\\site-packages\\fuzzywuzzy\\fuzz.py:11: UserWarning: Using slow pure-python SequenceMatcher. Install python-Levenshtein to remove this warning\n",
      "  warnings.warn('Using slow pure-python SequenceMatcher. Install python-Levenshtein to remove this warning')\n"
     ]
    }
   ],
   "source": [
    "import pandas as pd\n",
    "import numpy as np\n",
    "from rcmndr import Recommender\n",
    "import importlib\n",
    "from scipy.sparse import csr_matrix"
   ]
  },
  {
   "cell_type": "code",
   "execution_count": 3,
   "metadata": {},
   "outputs": [],
   "source": [
    "# import our files\n",
    "plays = pd.read_csv('F:/IHA/lastfm-2k/user_artists.dat',sep='\\t')\n",
    "artists = pd.read_csv('F:/IHA/lastfm-2k/artists.dat',sep='\\t',usecols=['id','name'])\n"
   ]
  },
  {
   "cell_type": "code",
   "execution_count": 4,
   "metadata": {},
   "outputs": [],
   "source": [
    "fm  = pd.merge(artists, plays, how = 'inner',left_on='id',\n",
    "                right_on='artistID')\n",
    "fm = fm.rename(columns={\"weight\":\"userArtistPlays\"})"
   ]
  },
  {
   "cell_type": "code",
   "execution_count": 5,
   "metadata": {},
   "outputs": [],
   "source": [
    "# creating a new column listen count which says how many times the song was listened base on artist name\n",
    "from collections import Counter\n",
    "count1 = fm['name']\n",
    "count2=Counter(count1)\n",
    "\n",
    "list_count = fm['name'].map(count2)\n",
    "\n",
    "fm['listen_count'] = list_count"
   ]
  },
  {
   "cell_type": "code",
   "execution_count": 6,
   "metadata": {},
   "outputs": [],
   "source": [
    "import rcmndr"
   ]
  },
  {
   "cell_type": "code",
   "execution_count": 6,
   "metadata": {},
   "outputs": [
    {
     "data": {
      "text/plain": [
       "<module 'rcmndr' from 'C:\\\\Users\\\\Kanchan\\\\rcmndr.py'>"
      ]
     },
     "execution_count": 6,
     "metadata": {},
     "output_type": "execute_result"
    }
   ],
   "source": [
    "importlib.reload(rcmndr)"
   ]
  },
  {
   "cell_type": "code",
   "execution_count": 7,
   "metadata": {},
   "outputs": [],
   "source": [
    "rcmnd = rcmndr.Recommender"
   ]
  },
  {
   "cell_type": "code",
   "execution_count": 8,
   "metadata": {},
   "outputs": [],
   "source": [
    "recommendedArtist = rcmnd.recommendByUser(fm,10)"
   ]
  },
  {
   "cell_type": "code",
   "execution_count": 49,
   "metadata": {},
   "outputs": [
    {
     "data": {
      "text/html": [
       "<div>\n",
       "<style scoped>\n",
       "    .dataframe tbody tr th:only-of-type {\n",
       "        vertical-align: middle;\n",
       "    }\n",
       "\n",
       "    .dataframe tbody tr th {\n",
       "        vertical-align: top;\n",
       "    }\n",
       "\n",
       "    .dataframe thead th {\n",
       "        text-align: right;\n",
       "    }\n",
       "</style>\n",
       "<table border=\"1\" class=\"dataframe\">\n",
       "  <thead>\n",
       "    <tr style=\"text-align: right;\">\n",
       "      <th></th>\n",
       "      <th>id</th>\n",
       "      <th>name</th>\n",
       "      <th>userID</th>\n",
       "      <th>artistID</th>\n",
       "      <th>userArtistPlays</th>\n",
       "    </tr>\n",
       "  </thead>\n",
       "  <tbody>\n",
       "    <tr>\n",
       "      <th>0</th>\n",
       "      <td>1</td>\n",
       "      <td>MALICE MIZER</td>\n",
       "      <td>34</td>\n",
       "      <td>1</td>\n",
       "      <td>212</td>\n",
       "    </tr>\n",
       "    <tr>\n",
       "      <th>1</th>\n",
       "      <td>1</td>\n",
       "      <td>MALICE MIZER</td>\n",
       "      <td>274</td>\n",
       "      <td>1</td>\n",
       "      <td>483</td>\n",
       "    </tr>\n",
       "    <tr>\n",
       "      <th>2</th>\n",
       "      <td>1</td>\n",
       "      <td>MALICE MIZER</td>\n",
       "      <td>785</td>\n",
       "      <td>1</td>\n",
       "      <td>76</td>\n",
       "    </tr>\n",
       "    <tr>\n",
       "      <th>3</th>\n",
       "      <td>2</td>\n",
       "      <td>Diary of Dreams</td>\n",
       "      <td>135</td>\n",
       "      <td>2</td>\n",
       "      <td>1021</td>\n",
       "    </tr>\n",
       "    <tr>\n",
       "      <th>4</th>\n",
       "      <td>2</td>\n",
       "      <td>Diary of Dreams</td>\n",
       "      <td>257</td>\n",
       "      <td>2</td>\n",
       "      <td>152</td>\n",
       "    </tr>\n",
       "  </tbody>\n",
       "</table>\n",
       "</div>"
      ],
      "text/plain": [
       "   id             name  userID  artistID  userArtistPlays\n",
       "0   1     MALICE MIZER      34         1              212\n",
       "1   1     MALICE MIZER     274         1              483\n",
       "2   1     MALICE MIZER     785         1               76\n",
       "3   2  Diary of Dreams     135         2             1021\n",
       "4   2  Diary of Dreams     257         2              152"
      ]
     },
     "execution_count": 49,
     "metadata": {},
     "output_type": "execute_result"
    }
   ],
   "source": [
    "fm.head()"
   ]
  },
  {
   "cell_type": "code",
   "execution_count": 9,
   "metadata": {},
   "outputs": [],
   "source": [
    "# convert the dataframe into a pivot table\n",
    "features = fm.pivot(index='artistID', columns='userID', values='listen_count').fillna(0)\n",
    "\n",
    "# obtain a sparse matrix\n",
    "matrix_features = csr_matrix(features.values)"
   ]
  },
  {
   "cell_type": "code",
   "execution_count": 10,
   "metadata": {},
   "outputs": [],
   "source": [
    "fm_unique_artists = fm.drop_duplicates(subset=['artistID']).reset_index(drop=True)[['artistID', 'name']]\n",
    "decode_id_song = {\n",
    "    song: i for i, song in \n",
    "    enumerate(list(fm_unique_artists.set_index('artistID').loc[features.index].name))\n",
    "}"
   ]
  },
  {
   "cell_type": "code",
   "execution_count": 11,
   "metadata": {},
   "outputs": [],
   "source": [
    "model = Recommender(metric='cosine', algorithm='auto', k=20, data=matrix_features, decode_id_song=decode_id_song)"
   ]
  },
  {
   "cell_type": "code",
   "execution_count": 56,
   "metadata": {},
   "outputs": [
    {
     "name": "stdout",
     "output_type": "stream",
     "text": [
      "Starting the recommendation process for Lady Gaga ...\n",
      "... Done\n"
     ]
    }
   ],
   "source": [
    "name = 'Lady Gaga'\n",
    "new_recommendations = model.make_recommendation(new_song=name, n_recommendations=10)"
   ]
  },
  {
   "cell_type": "code",
   "execution_count": 57,
   "metadata": {},
   "outputs": [
    {
     "name": "stdout",
     "output_type": "stream",
     "text": [
      "The recommendations for Lady Gaga are:\n",
      "['Avril Lavigne', 'Shakira', 'Black Eyed Peas', 'Madonna', 'Ke$ha', 'Beyoncé', 'Christina Aguilera', 'Katy Perry', 'Rihanna', 'Britney Spears']\n"
     ]
    }
   ],
   "source": [
    "print(f\"The recommendations for {name} are:\")\n",
    "print(f\"{new_recommendations}\")"
   ]
  },
  {
   "cell_type": "code",
   "execution_count": null,
   "metadata": {},
   "outputs": [
    {
     "name": "stdout",
     "output_type": "stream",
     "text": [
      " * Serving Flask app \"__main__\" (lazy loading)\n",
      " * Environment: production\n",
      "   WARNING: This is a development server. Do not use it in a production deployment.\n",
      "   Use a production WSGI server instead.\n",
      " * Debug mode: off\n"
     ]
    },
    {
     "name": "stderr",
     "output_type": "stream",
     "text": [
      " * Running on http://127.0.0.1:5000/ (Press CTRL+C to quit)\n",
      "127.0.0.1 - - [21/Aug/2020 15:54:12] \"GET / HTTP/1.1\" 200 -\n",
      "C:\\Users\\sony\\Anaconda3\\lib\\site-packages\\sklearn\\neighbors\\base.py:420: UserWarning: Loky-backed parallel loops cannot be nested below threads, setting n_jobs=1\n",
      "  n_jobs = effective_n_jobs(self.n_jobs)\n",
      "127.0.0.1 - - [21/Aug/2020 15:54:28] \"POST /resultByArtist HTTP/1.1\" 200 -\n"
     ]
    },
    {
     "name": "stdout",
     "output_type": "stream",
     "text": [
      "Starting the recommendation process for Lady Gaga ...\n",
      "... Done\n"
     ]
    },
    {
     "name": "stderr",
     "output_type": "stream",
     "text": [
      "127.0.0.1 - - [21/Aug/2020 15:54:53] \"POST /resultByArtist HTTP/1.1\" 200 -\n"
     ]
    },
    {
     "name": "stdout",
     "output_type": "stream",
     "text": [
      "Starting the recommendation process for Shakira ...\n",
      "... Done\n"
     ]
    }
   ],
   "source": [
    "from flask import Flask, render_template, request\n",
    "  \n",
    "app = Flask(__name__, template_folder='rcmnd_template') \n",
    "   \n",
    "@app.route('/') \n",
    "def hello_world(): \n",
    "    return render_template('Recommend.html')\n",
    "\n",
    "\n",
    "@app.route('/resultByID',methods = ['POST'])\n",
    "def resultByID():\n",
    "    data = request.form['ID']\n",
    "    recommendedArtist = rcmnd.recommendByUser(fm,int(data))\n",
    "    output = recommendedArtist['name'].to_string(index=False)\n",
    "    return render_template('Recommended.html', prediction_text= \"Top recommended artists are : {}\".format(output))\n",
    "\n",
    "@app.route('/resultByArtist',methods = ['POST'])\n",
    "def resultByArtist():\n",
    "    data = request.form['artist']\n",
    "    output = model.make_recommendation(new_song=data, n_recommendations=10)\n",
    "    return render_template('Recommended.html', prediction_text= \"Top recommended artists are : {}\".format(output))\n",
    " \n",
    "if __name__ == '__main__':    \n",
    "    app.run()"
   ]
  }
 ],
 "metadata": {
  "kernelspec": {
   "display_name": "Python 3",
   "language": "python",
   "name": "python3"
  },
  "language_info": {
   "codemirror_mode": {
    "name": "ipython",
    "version": 3
   },
   "file_extension": ".py",
   "mimetype": "text/x-python",
   "name": "python",
   "nbconvert_exporter": "python",
   "pygments_lexer": "ipython3",
   "version": "3.7.4"
  }
 },
 "nbformat": 4,
 "nbformat_minor": 4
}
