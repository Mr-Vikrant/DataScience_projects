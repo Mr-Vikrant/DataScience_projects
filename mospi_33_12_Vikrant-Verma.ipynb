{
 "cells": [
  {
   "cell_type": "code",
   "execution_count": 211,
   "metadata": {},
   "outputs": [],
   "source": [
    "import os\n",
    "import numpy as np\n",
    "import pandas as pd\n",
    "import openpyxl"
   ]
  },
  {
   "cell_type": "code",
   "execution_count": 212,
   "metadata": {},
   "outputs": [
    {
     "data": {
      "text/plain": [
       "'F:\\\\Python_work\\\\Factly_assignment'"
      ]
     },
     "execution_count": 212,
     "metadata": {},
     "output_type": "execute_result"
    }
   ],
   "source": [
    "os.getcwd()"
   ]
  },
  {
   "cell_type": "code",
   "execution_count": 213,
   "metadata": {},
   "outputs": [],
   "source": [
    "os.chdir(\"F:\\Python_work\\Factly_assignment\")"
   ]
  },
  {
   "cell_type": "code",
   "execution_count": 233,
   "metadata": {},
   "outputs": [],
   "source": [
    "file = 'Table 33.12.xlsx'\n",
    "wb = openpyxl.load_workbook(file)\n",
    "sheet = wb['table 33.12']"
   ]
  },
  {
   "cell_type": "code",
   "execution_count": 215,
   "metadata": {},
   "outputs": [
    {
     "data": {
      "text/plain": [
       "'---------------END-----------------'"
      ]
     },
     "execution_count": 215,
     "metadata": {},
     "output_type": "execute_result"
    }
   ],
   "source": [
    "\"\"\"Extracting river details from spreadsheet---------------------START\"\"\"\n",
    "river_detail = np.array([])\n",
    "row=10\n",
    "while row < sheet.max_row-3 :    \n",
    "    if sheet['B'+str(row)].value != None and isinstance(sheet['B'+str(row)].value,int) == False and sheet['B'+str(row)].value[0].isalpha() == True :\n",
    "                rivers = sheet['B'+str(row)].value.split(\", \")\n",
    "                river_detail = np.append(river_detail, rivers)\n",
    "    row+=1\n",
    "\n",
    "river_name = []\n",
    "river_length = []\n",
    "monitoring_locations = []\n",
    "for i in river_detail:\n",
    "    if(i[-1].isalpha()) :\n",
    "        river_name = np.append(river_name,i)\n",
    "    if(i[-1] == '*') :\n",
    "        i=i[:-1]\n",
    "        river_length = np.append(river_length,i)\n",
    "    if(i[-1] == '#') :\n",
    "        i=i[:-1]\n",
    "        monitoring_locations = np.append(monitoring_locations,i)\n",
    "\n",
    "\"\"\"---------------END-----------------\"\"\""
   ]
  },
  {
   "cell_type": "code",
   "execution_count": 230,
   "metadata": {},
   "outputs": [
    {
     "data": {
      "text/plain": [
       "'----------------------END---------------------'"
      ]
     },
     "execution_count": 230,
     "metadata": {},
     "output_type": "execute_result"
    }
   ],
   "source": [
    "\"\"\"Extratcting variables from spreadsheet-------------START\"\"\"\n",
    "result_parameters = np.array([])\n",
    "result_values = np.array([])\n",
    "result_year = np.array([])\n",
    "result_unit = np.array([])\n",
    "result_note = np.array([])\n",
    "flag = 1\n",
    "i=66\n",
    "row = 10\n",
    "year = 2001\n",
    "\n",
    "while row < sheet.max_row-3 :\n",
    "\n",
    "    if sheet['A'+str(row)].value != None :\n",
    "        parameters = sheet['A' + str(row)].value\n",
    "        if '(' in parameters:            \n",
    "            parameters, unit = parameters.split('(')\n",
    "            unit = unit[:-1]\n",
    "            result_unit = np.append(result_unit, unit)\n",
    "        else :\n",
    "            result_unit = np.append(result_unit, '')\n",
    "        result_parameters = np.append(result_parameters, parameters)\n",
    "        values = sheet[chr(i) + str(row)].value\n",
    "        result_values = np.append(result_values, values)\n",
    "        result_year = np.append(result_year, year)\n",
    "        result_note = np.append(result_note,'')\n",
    "        \n",
    "    if flag != 11 and row == sheet.max_row-4:\n",
    "        row = 10\n",
    "        flag+= 1\n",
    "        i+=1\n",
    "        year+=1\n",
    "        \n",
    "    row+=1\n",
    "\"\"\"-----------------END----------------\"\"\"\n",
    "    \n",
    "    \n",
    "\"\"\"Storing river details------------START\"\"\"\n",
    "data_count = 0\n",
    "row = 10\n",
    "result_riverName = []\n",
    "result_riverLength = []\n",
    "result_monitoringLocations = []\n",
    "index = 0\n",
    "flag = 1\n",
    "while row < sheet.max_row-3 :\n",
    "    if sheet['A'+str(row)].value != None :\n",
    "        data_count+=1\n",
    "    row+=1\n",
    "    \n",
    "while index < data_count/len(river_name) :    \n",
    "    count = 1\n",
    "    while count <= len(river_name) :\n",
    "        result_riverName = np.append(result_riverName, river_name[index])\n",
    "        result_riverLength = np.append(result_riverLength, river_length[index])\n",
    "        result_monitoringLocations = np.append(result_monitoringLocations, monitoring_locations[index])\n",
    "        count+=1    \n",
    "    index+=1   \n",
    "    \n",
    "year = 2001   \n",
    "result_complete_riverName = []\n",
    "result_complete_riverLength = []\n",
    "result_complete_monitoringLocations = []\n",
    "while year <= 2011 : \n",
    "    result_complete_riverName = np.append(result_complete_riverName, result_riverName)\n",
    "    result_complete_riverLength = np.append(result_complete_riverLength, result_riverLength)\n",
    "    result_complete_monitoringLocations = np.append(result_complete_monitoringLocations, result_monitoringLocations)\n",
    "    year+=1\n",
    "    \n",
    "\"\"\"----------------------END---------------------\"\"\""
   ]
  },
  {
   "cell_type": "code",
   "execution_count": 231,
   "metadata": {},
   "outputs": [],
   "source": [
    "combined_data = {'river_name':result_complete_riverName, 'river_length':result_complete_riverLength, 'monitoring_locations':result_complete_monitoringLocations, 'parameters':result_parameters, 'year':result_year, 'value': result_values, 'unit': result_unit, 'note': result_note}\n",
    "df = pd.DataFrame(combined_data)\n",
    "del result_complete_riverName, result_complete_riverLength, result_complete_monitoringLocations, result_parameters, result_year, result_values, result_unit, result_note\n",
    "\n",
    "df.to_csv('mospi_33_12_Vikrant-Verma.csv',index = False)"
   ]
  }
 ],
 "metadata": {
  "kernelspec": {
   "display_name": "Python 3",
   "language": "python",
   "name": "python3"
  },
  "language_info": {
   "codemirror_mode": {
    "name": "ipython",
    "version": 3
   },
   "file_extension": ".py",
   "mimetype": "text/x-python",
   "name": "python",
   "nbconvert_exporter": "python",
   "pygments_lexer": "ipython3",
   "version": "3.7.6"
  }
 },
 "nbformat": 4,
 "nbformat_minor": 4
}
